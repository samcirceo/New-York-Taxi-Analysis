{
 "cells": [
  {
   "cell_type": "code",
   "execution_count": null,
   "id": "2db4f3fa-9b95-4b52-b131-9095aa13d3c3",
   "metadata": {},
   "outputs": [],
   "source": [
    "data dictionary: https://www.nyc.gov/assets/tlc/downloads/pdf/data_dictionary_trip_records_yellow.pdf\n",
    "data: https://www.nyc.gov/site/tlc/about/tlc-trip-record-data.page"
   ]
  }
 ],
 "metadata": {
  "kernelspec": {
   "display_name": "Python 3 (ipykernel)",
   "language": "python",
   "name": "python3"
  },
  "language_info": {
   "codemirror_mode": {
    "name": "ipython",
    "version": 3
   },
   "file_extension": ".py",
   "mimetype": "text/x-python",
   "name": "python",
   "nbconvert_exporter": "python",
   "pygments_lexer": "ipython3",
   "version": "3.12.4"
  }
 },
 "nbformat": 4,
 "nbformat_minor": 5
}
